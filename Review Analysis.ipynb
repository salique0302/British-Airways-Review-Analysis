{
 "cells": [
  {
   "cell_type": "markdown",
   "metadata": {},
   "source": [
    "# ETL - Extract Transform Load"
   ]
  },
  {
   "cell_type": "code",
   "execution_count": 1,
   "metadata": {},
   "outputs": [],
   "source": [
    "import requests\n",
    "from bs4 import BeautifulSoup\n",
    "import pandas as pd\n",
    "import string\n",
    "import numpy as np\n",
    "import seaborn as sns\n",
    "import matplotlib.pyplot as plt"
   ]
  },
  {
   "cell_type": "markdown",
   "metadata": {},
   "source": [
    "# 1) Extract"
   ]
  },
  {
   "cell_type": "markdown",
   "metadata": {},
   "source": [
    "## Web Scrapping"
   ]
  },
  {
   "cell_type": "code",
   "execution_count": 2,
   "metadata": {},
   "outputs": [],
   "source": [
    "base_url = \"https://www.airlinequality.com/airline-reviews/british-airways\"\n",
    "pages = 37\n",
    "page_size = 100"
   ]
  },
  {
   "cell_type": "code",
   "execution_count": 3,
   "metadata": {},
   "outputs": [
    {
     "name": "stdout",
     "output_type": "stream",
     "text": [
      "Scrapping page 1\n",
      "100\n",
      "Scrapping page 2\n",
      "200\n",
      "Scrapping page 3\n",
      "300\n",
      "Scrapping page 4\n",
      "400\n",
      "Scrapping page 5\n",
      "500\n",
      "Scrapping page 6\n",
      "600\n",
      "Scrapping page 7\n",
      "700\n",
      "Scrapping page 8\n",
      "800\n",
      "Scrapping page 9\n",
      "900\n",
      "Scrapping page 10\n",
      "1000\n",
      "Scrapping page 11\n",
      "1100\n",
      "Scrapping page 12\n",
      "1200\n",
      "Scrapping page 13\n",
      "1300\n",
      "Scrapping page 14\n",
      "1400\n",
      "Scrapping page 15\n",
      "1500\n",
      "Scrapping page 16\n",
      "1600\n",
      "Scrapping page 17\n",
      "1700\n",
      "Scrapping page 18\n",
      "1800\n",
      "Scrapping page 19\n",
      "1900\n",
      "Scrapping page 20\n",
      "2000\n",
      "Scrapping page 21\n",
      "2100\n",
      "Scrapping page 22\n",
      "2200\n",
      "Scrapping page 23\n",
      "2300\n",
      "Scrapping page 24\n",
      "2400\n",
      "Scrapping page 25\n",
      "2500\n",
      "Scrapping page 26\n",
      "2600\n",
      "Scrapping page 27\n",
      "2700\n",
      "Scrapping page 28\n",
      "2800\n",
      "Scrapping page 29\n",
      "2900\n",
      "Scrapping page 30\n",
      "3000\n",
      "Scrapping page 31\n",
      "3100\n",
      "Scrapping page 32\n",
      "3200\n",
      "Scrapping page 33\n",
      "3300\n",
      "Scrapping page 34\n",
      "3400\n",
      "Scrapping page 35\n",
      "3500\n",
      "Scrapping page 36\n",
      "3600\n",
      "Scrapping page 37\n",
      "3700\n"
     ]
    }
   ],
   "source": [
    "reviews = []\n",
    "\n",
    "for i in range(1, pages + 1):\n",
    "    print(f\"Scrapping page {i}\")\n",
    "    url = f\"{base_url}/page/{i}/?sortby=post_date%3ADesc&pagesize={page_size}\"\n",
    "    \n",
    "    response = requests.get(url)\n",
    "    content = response.content\n",
    "    parsed_content = BeautifulSoup(content, 'html.parser')\n",
    "    \n",
    "    for para in parsed_content.find_all(\"div\", {\"class\": \"text_content\"}):\n",
    "        reviews.append(para.get_text())\n",
    "        \n",
    "    print(len(reviews))"
   ]
  },
  {
   "cell_type": "code",
   "execution_count": 4,
   "metadata": {},
   "outputs": [
    {
     "data": {
      "text/html": [
       "<div>\n",
       "<style scoped>\n",
       "    .dataframe tbody tr th:only-of-type {\n",
       "        vertical-align: middle;\n",
       "    }\n",
       "\n",
       "    .dataframe tbody tr th {\n",
       "        vertical-align: top;\n",
       "    }\n",
       "\n",
       "    .dataframe thead th {\n",
       "        text-align: right;\n",
       "    }\n",
       "</style>\n",
       "<table border=\"1\" class=\"dataframe\">\n",
       "  <thead>\n",
       "    <tr style=\"text-align: right;\">\n",
       "      <th></th>\n",
       "      <th>reviews</th>\n",
       "    </tr>\n",
       "  </thead>\n",
       "  <tbody>\n",
       "    <tr>\n",
       "      <th>0</th>\n",
       "      <td>✅ Trip Verified |  I have never seen such disr...</td>\n",
       "    </tr>\n",
       "    <tr>\n",
       "      <th>1</th>\n",
       "      <td>✅ Trip Verified |  Paid for a 14 hour long fli...</td>\n",
       "    </tr>\n",
       "    <tr>\n",
       "      <th>2</th>\n",
       "      <td>✅ Trip Verified |  Very inconsiderate PA annou...</td>\n",
       "    </tr>\n",
       "    <tr>\n",
       "      <th>3</th>\n",
       "      <td>✅ Trip Verified |  Absolutely terrible, lost m...</td>\n",
       "    </tr>\n",
       "    <tr>\n",
       "      <th>4</th>\n",
       "      <td>✅ Trip Verified |  We booked premium economy r...</td>\n",
       "    </tr>\n",
       "    <tr>\n",
       "      <th>...</th>\n",
       "      <td>...</td>\n",
       "    </tr>\n",
       "    <tr>\n",
       "      <th>3695</th>\n",
       "      <td>London (LHR) to Houston (IAH) to London (LHR)....</td>\n",
       "    </tr>\n",
       "    <tr>\n",
       "      <th>3696</th>\n",
       "      <td>Travelling from Venice to London Gatwick with ...</td>\n",
       "    </tr>\n",
       "    <tr>\n",
       "      <th>3697</th>\n",
       "      <td>LHR-VIE on an A319. Online check-in didn't sta...</td>\n",
       "    </tr>\n",
       "    <tr>\n",
       "      <th>3698</th>\n",
       "      <td>We flew LAX to LHR on the new A380-800 in Club...</td>\n",
       "    </tr>\n",
       "    <tr>\n",
       "      <th>3699</th>\n",
       "      <td>LHR-LAX-LHR. This route is the new A380 which ...</td>\n",
       "    </tr>\n",
       "  </tbody>\n",
       "</table>\n",
       "<p>3700 rows × 1 columns</p>\n",
       "</div>"
      ],
      "text/plain": [
       "                                                reviews\n",
       "0     ✅ Trip Verified |  I have never seen such disr...\n",
       "1     ✅ Trip Verified |  Paid for a 14 hour long fli...\n",
       "2     ✅ Trip Verified |  Very inconsiderate PA annou...\n",
       "3     ✅ Trip Verified |  Absolutely terrible, lost m...\n",
       "4     ✅ Trip Verified |  We booked premium economy r...\n",
       "...                                                 ...\n",
       "3695  London (LHR) to Houston (IAH) to London (LHR)....\n",
       "3696  Travelling from Venice to London Gatwick with ...\n",
       "3697  LHR-VIE on an A319. Online check-in didn't sta...\n",
       "3698  We flew LAX to LHR on the new A380-800 in Club...\n",
       "3699  LHR-LAX-LHR. This route is the new A380 which ...\n",
       "\n",
       "[3700 rows x 1 columns]"
      ]
     },
     "execution_count": 4,
     "metadata": {},
     "output_type": "execute_result"
    }
   ],
   "source": [
    "df = pd.DataFrame()\n",
    "df['reviews'] = reviews\n",
    "df"
   ]
  },
  {
   "cell_type": "markdown",
   "metadata": {},
   "source": [
    "## Saving The Data"
   ]
  },
  {
   "cell_type": "code",
   "execution_count": 5,
   "metadata": {},
   "outputs": [],
   "source": [
    "df.to_csv(\"BA_Reviews.csv\")"
   ]
  },
  {
   "cell_type": "code",
   "execution_count": 6,
   "metadata": {},
   "outputs": [
    {
     "data": {
      "text/plain": [
       "0       ✅ Trip Verified |  I have never seen such disr...\n",
       "1       ✅ Trip Verified |  Paid for a 14 hour long fli...\n",
       "2       ✅ Trip Verified |  Very inconsiderate PA annou...\n",
       "3       ✅ Trip Verified |  Absolutely terrible, lost m...\n",
       "4       ✅ Trip Verified |  We booked premium economy r...\n",
       "                              ...                        \n",
       "3695    London (LHR) to Houston (IAH) to London (LHR)....\n",
       "3696    Travelling from Venice to London Gatwick with ...\n",
       "3697    LHR-VIE on an A319. Online check-in didn't sta...\n",
       "3698    We flew LAX to LHR on the new A380-800 in Club...\n",
       "3699    LHR-LAX-LHR. This route is the new A380 which ...\n",
       "Name: reviews, Length: 3700, dtype: object"
      ]
     },
     "execution_count": 6,
     "metadata": {},
     "output_type": "execute_result"
    }
   ],
   "source": [
    "reviews = pd.read_csv(\"BA_Reviews.csv\")\n",
    "reviews = reviews.pop('reviews')\n",
    "reviews"
   ]
  },
  {
   "cell_type": "markdown",
   "metadata": {},
   "source": [
    "# 2) Transform"
   ]
  },
  {
   "cell_type": "markdown",
   "metadata": {},
   "source": [
    "## Cleaning text"
   ]
  },
  {
   "cell_type": "code",
   "execution_count": 7,
   "metadata": {},
   "outputs": [],
   "source": [
    "def remove_punctuations(text):\n",
    "    for punctuation in string.punctuation:  # !\"#$%&'()*+,-./:;<=>?@[\\]^_`{|}~   removes these character\n",
    "        text = text.replace(punctuation, '')\n",
    "    return text"
   ]
  },
  {
   "cell_type": "code",
   "execution_count": 8,
   "metadata": {},
   "outputs": [],
   "source": [
    "def remove_short_words(text):\n",
    "    words = text.split()\n",
    "    filtered_words = [word for word in words if len(word) > 3]  # Adjust the length condition as needed\n",
    "    return ' '.join(filtered_words)"
   ]
  },
  {
   "cell_type": "code",
   "execution_count": 9,
   "metadata": {},
   "outputs": [
    {
     "data": {
      "text/plain": [
       "0       have never seen such disrespect customer time ...\n",
       "1       Paid hour long flight ticket which includes in...\n",
       "2       Very inconsiderate announcements were made pur...\n",
       "3       Absolutely terrible lost luggage both flights ...\n",
       "4       booked premium economy round trip from Phoenix...\n",
       "                              ...                        \n",
       "3695    London LHR Houston IAH London LHR Heathrow cra...\n",
       "3696    Travelling from Venice London Gatwick with Bri...\n",
       "3697    LHRVIE A319 Online checkin didnt start working...\n",
       "3698    flew A380800 Club World Flight time flight att...\n",
       "3699    LHRLAXLHR This route A380 which very much look...\n",
       "Name: reviews, Length: 3700, dtype: object"
      ]
     },
     "execution_count": 9,
     "metadata": {},
     "output_type": "execute_result"
    }
   ],
   "source": [
    "reviews = reviews.str.replace('Trip Verified |', '')\n",
    "reviews = reviews.str.replace('✅', '')\n",
    "# reviews = reviews.str.replace(r'\\b\\w{1,3}\\b', '')\n",
    "reviews = reviews.apply(remove_short_words)\n",
    "reviews = reviews.apply(remove_punctuations)\n",
    "reviews"
   ]
  },
  {
   "cell_type": "code",
   "execution_count": 10,
   "metadata": {},
   "outputs": [
    {
     "data": {
      "text/plain": [
       "(3700,)"
      ]
     },
     "execution_count": 10,
     "metadata": {},
     "output_type": "execute_result"
    }
   ],
   "source": [
    "reviews.shape"
   ]
  },
  {
   "cell_type": "code",
   "execution_count": 11,
   "metadata": {},
   "outputs": [
    {
     "data": {
      "text/plain": [
       "flight        6637\n",
       "with          5948\n",
       "were          4512\n",
       "that          4363\n",
       "they          3634\n",
       "this          3610\n",
       "have          3369\n",
       "from          3112\n",
       "service       2835\n",
       "very          2825\n",
       "seat          2352\n",
       "food          2324\n",
       "london        2188\n",
       "british       2188\n",
       "airways       2164\n",
       "crew          2150\n",
       "seats         2087\n",
       "good          2065\n",
       "time          2060\n",
       "cabin         1973\n",
       "class         1922\n",
       "which         1914\n",
       "there         1763\n",
       "business      1610\n",
       "when          1601\n",
       "staff         1563\n",
       "heathrow      1521\n",
       "would         1514\n",
       "only          1497\n",
       "their         1488\n",
       "economy       1426\n",
       "first         1300\n",
       "after         1271\n",
       "flights       1196\n",
       "more          1157\n",
       "been          1134\n",
       "just          1110\n",
       "return        1106\n",
       "other         1099\n",
       "club          1080\n",
       "back          1077\n",
       "hours         1068\n",
       "than          1068\n",
       "passengers    1050\n",
       "again         1046\n",
       "plane         1040\n",
       "airline       1039\n",
       "verified      1034\n",
       "even          1014\n",
       "them          1013\n",
       "Name: count, dtype: int64"
      ]
     },
     "execution_count": 11,
     "metadata": {},
     "output_type": "execute_result"
    }
   ],
   "source": [
    "freq_words = pd.Series(' '.join(reviews).lower().split()).value_counts()[:50]\n",
    "freq_words"
   ]
  },
  {
   "cell_type": "code",
   "execution_count": 12,
   "metadata": {},
   "outputs": [
    {
     "data": {
      "image/png": "[encoded data removed]",
      "text/plain": [
       "<Figure size 1000x1000 with 1 Axes>"
      ]
     },
     "metadata": {},
     "output_type": "display_data"
    }
   ],
   "source": [
    "plt.figure(figsize=(10,10))\n",
    "freq_words.plot.barh(x=freq_words[0], y=freq_words[1])\n",
    "plt.show()"
   ]
  },
  {
   "cell_type": "markdown",
   "metadata": {},
   "source": [
    "## Text Clustering"
   ]
  },
  {
   "cell_type": "code",
   "execution_count": 13,
   "metadata": {},
   "outputs": [],
   "source": [
    "cat = ['positive', 'negative']\n",
    "num_cat = len(cat)"
   ]
  },
  {
   "cell_type": "code",
   "execution_count": 14,
   "metadata": {},
   "outputs": [],
   "source": [
    "from sklearn.feature_extraction.text import TfidfVectorizer\n",
    "from nltk.tokenize import RegexpTokenizer\n",
    "\n",
    "tokenizer = RegexpTokenizer(r'\\w+')\n",
    "\n",
    "tf_idf_vect = TfidfVectorizer(lowercase=True, stop_words='english', ngram_range = (1,1), tokenizer = tokenizer.tokenize)"
   ]
  },
  {
   "cell_type": "markdown",
   "metadata": {},
   "source": [
    "# 3) Load"
   ]
  },
  {
   "cell_type": "code",
   "execution_count": 15,
   "metadata": {},
   "outputs": [
    {
     "name": "stderr",
     "output_type": "stream",
     "text": [
      "c:\\Python311\\Lib\\site-packages\\sklearn\\feature_extraction\\text.py:528: UserWarning: The parameter 'token_pattern' will not be used since 'tokenizer' is not None'\n",
      "  warnings.warn(\n"
     ]
    },
    {
     "data": {
      "text/plain": [
       "(3700, 14766)"
      ]
     },
     "execution_count": 15,
     "metadata": {},
     "output_type": "execute_result"
    }
   ],
   "source": [
    "review_counts = tf_idf_vect.fit_transform(reviews)\n",
    "\n",
    "review_counts.shape"
   ]
  },
  {
   "cell_type": "markdown",
   "metadata": {},
   "source": [
    "## KMeans"
   ]
  },
  {
   "cell_type": "code",
   "execution_count": 17,
   "metadata": {},
   "outputs": [
    {
     "name": "stderr",
     "output_type": "stream",
     "text": [
      "c:\\Python311\\Lib\\site-packages\\sklearn\\cluster\\_kmeans.py:870: FutureWarning: The default value of `n_init` will change from 10 to 'auto' in 1.4. Set the value of `n_init` explicitly to suppress the warning\n",
      "  warnings.warn(\n"
     ]
    },
    {
     "data": {
      "text/plain": [
       "array([0, 0, 0, ..., 0, 1, 1])"
      ]
     },
     "execution_count": 17,
     "metadata": {},
     "output_type": "execute_result"
    }
   ],
   "source": [
    "from sklearn.cluster import KMeans\n",
    "\n",
    "Kmeans = KMeans(n_clusters=num_cat).fit(review_counts)\n",
    "\n",
    "pred_labels = Kmeans.labels_\n",
    "pred_labels"
   ]
  },
  {
   "cell_type": "code",
   "execution_count": 18,
   "metadata": {},
   "outputs": [
    {
     "data": {
      "text/plain": [
       "array([[6.63692465e-05, 0.00000000e+00, 1.78394969e-04, ...,\n",
       "        0.00000000e+00, 0.00000000e+00, 6.31089539e-05],\n",
       "       [0.00000000e+00, 6.99348528e-05, 0.00000000e+00, ...,\n",
       "        6.08433265e-05, 8.92685087e-05, 0.00000000e+00]])"
      ]
     },
     "execution_count": 18,
     "metadata": {},
     "output_type": "execute_result"
    }
   ],
   "source": [
    "cluster_centres = Kmeans.cluster_centers_\n",
    "cluster_centres"
   ]
  },
  {
   "cell_type": "code",
   "execution_count": 19,
   "metadata": {},
   "outputs": [
    {
     "data": {
      "text/plain": [
       "{0: 1442, 1: 2258}"
      ]
     },
     "execution_count": 19,
     "metadata": {},
     "output_type": "execute_result"
    }
   ],
   "source": [
    "unique, count = np.unique(pred_labels, return_counts=True)\n",
    "dict(zip(unique, count))   # positive and negative features"
   ]
  },
  {
   "cell_type": "code",
   "execution_count": 20,
   "metadata": {},
   "outputs": [
    {
     "name": "stdout",
     "output_type": "stream",
     "text": [
      "DBI Score:  12.563335953786448\n",
      "Silhoutte score:  0.006574927187218888\n"
     ]
    }
   ],
   "source": [
    "from sklearn import metrics\n",
    "\n",
    "dbi = metrics.davies_bouldin_score(review_counts.toarray(), pred_labels)\n",
    "\n",
    "ss = metrics.silhouette_score(review_counts.toarray(), pred_labels, metric='euclidean')\n",
    "\n",
    "# Both of these gives clustering scores\n",
    "# how similar an object is to its own cluster compared to other clusters. \n",
    "\n",
    "print(\"DBI Score: \", dbi)\n",
    "print(\"Silhoutte score: \", ss)"
   ]
  },
  {
   "cell_type": "markdown",
   "metadata": {},
   "source": [
    "## Hierarchical Clustering"
   ]
  },
  {
   "cell_type": "code",
   "execution_count": 22,
   "metadata": {},
   "outputs": [
    {
     "name": "stdout",
     "output_type": "stream",
     "text": [
      "Hierarchical Clustering Silhouette Score: 0.004986862277875568\n",
      "Hierarchical Clustering Davies-Bouldin Score: 14.273690659384608\n"
     ]
    }
   ],
   "source": [
    "from sklearn.cluster import AgglomerativeClustering\n",
    "from sklearn.metrics import silhouette_score, davies_bouldin_score\n",
    "\n",
    "# Apply Hierarchical Clustering\n",
    "agg_clustering = AgglomerativeClustering(n_clusters=num_cat)\n",
    "agg_clusters = agg_clustering.fit_predict(review_counts.toarray())\n",
    "\n",
    "# Evaluate clustering performance using silhouette score\n",
    "agg_silhouette_avg = silhouette_score(review_counts, agg_clusters)\n",
    "print(\"Hierarchical Clustering Silhouette Score:\", agg_silhouette_avg)\n",
    "\n",
    "# Evaluate clustering performance using Davies-Bouldin score\n",
    "db_score_agg = davies_bouldin_score(review_counts.toarray(), agg_clusters)\n",
    "print(\"Hierarchical Clustering Davies-Bouldin Score:\", db_score_agg)\n"
   ]
  },
  {
   "cell_type": "markdown",
   "metadata": {},
   "source": [
    "## Gaussian Mixture Models (GMM)"
   ]
  },
  {
   "cell_type": "markdown",
   "metadata": {},
   "source": [
    "Took to much memory, device and colab can't handle"
   ]
  },
  {
   "cell_type": "code",
   "execution_count": 28,
   "metadata": {},
   "outputs": [],
   "source": [
    "# from sklearn.mixture import GaussianMixture\n",
    "# from sklearn.metrics import silhouette_score, davies_bouldin_score\n",
    "\n",
    "# # Apply Gaussian Mixture Models\n",
    "# gmm = GaussianMixture(n_components=num_cat)\n",
    "# gmm.fit(review_counts.toarray())\n",
    "# gmm_clusters = gmm.predict(review_counts.toarray())\n",
    "\n",
    "# # Evaluate clustering performance using silhouette score\n",
    "# gmm_silhouette_avg = silhouette_score(review_counts, gmm_clusters)\n",
    "# print(\"GMM Silhouette Score:\", gmm_silhouette_avg)\n",
    "\n",
    "# # Davies-Bouldin Score for Gaussian Mixture Models\n",
    "# db_score_gmm = davies_bouldin_score(review_counts.toarray(), gmm_clusters)\n",
    "# print(\"GMM Davies-Bouldin Score:\", db_score_gmm)\n"
   ]
  },
  {
   "cell_type": "markdown",
   "metadata": {},
   "source": [
    "## Mean-Shift"
   ]
  },
  {
   "cell_type": "markdown",
   "metadata": {},
   "source": [
    "Took to much memory, device and colab can't handle"
   ]
  },
  {
   "cell_type": "code",
   "execution_count": 29,
   "metadata": {},
   "outputs": [],
   "source": [
    "# from sklearn.cluster import MeanShift\n",
    "# from sklearn.metrics import silhouette_score, davies_bouldin_score\n",
    "\n",
    "# # Apply Mean Shift\n",
    "# mean_shift = MeanShift()\n",
    "# mean_shift_clusters = mean_shift.fit_predict(review_counts.toarray())\n",
    "\n",
    "# # Evaluate clustering performance using silhouette score\n",
    "# mean_shift_silhouette_avg = silhouette_score(review_counts, mean_shift_clusters)\n",
    "# print(\"Mean Shift Silhouette Score:\", mean_shift_silhouette_avg)\n",
    "\n",
    "# # Davies-Bouldin Score for Mean Shift\n",
    "# db_score_mean_shift = davies_bouldin_score(review_counts.toarray(), mean_shift_clusters)\n",
    "# print(\"Mean Shift Davies-Bouldin Score:\", db_score_mean_shift)\n"
   ]
  },
  {
   "cell_type": "markdown",
   "metadata": {},
   "source": [
    "Higher Silhouette Score is preferred and Lower Davies-Bouldin Score is preferred <br /> \n",
    "Therefore the best model among the tested models is K-Means"
   ]
  },
  {
   "cell_type": "markdown",
   "metadata": {},
   "source": [
    "## Visulaizing Results"
   ]
  },
  {
   "cell_type": "code",
   "execution_count": 31,
   "metadata": {},
   "outputs": [
    {
     "data": {
      "text/html": [
       "<div>\n",
       "<style scoped>\n",
       "    .dataframe tbody tr th:only-of-type {\n",
       "        vertical-align: middle;\n",
       "    }\n",
       "\n",
       "    .dataframe tbody tr th {\n",
       "        vertical-align: top;\n",
       "    }\n",
       "\n",
       "    .dataframe thead th {\n",
       "        text-align: right;\n",
       "    }\n",
       "</style>\n",
       "<table border=\"1\" class=\"dataframe\">\n",
       "  <thead>\n",
       "    <tr style=\"text-align: right;\">\n",
       "      <th></th>\n",
       "      <th>review</th>\n",
       "      <th>label</th>\n",
       "    </tr>\n",
       "  </thead>\n",
       "  <tbody>\n",
       "    <tr>\n",
       "      <th>0</th>\n",
       "      <td>have never seen such disrespect customer time ...</td>\n",
       "      <td>0</td>\n",
       "    </tr>\n",
       "    <tr>\n",
       "      <th>1</th>\n",
       "      <td>Paid hour long flight ticket which includes in...</td>\n",
       "      <td>0</td>\n",
       "    </tr>\n",
       "    <tr>\n",
       "      <th>2</th>\n",
       "      <td>Very inconsiderate announcements were made pur...</td>\n",
       "      <td>0</td>\n",
       "    </tr>\n",
       "    <tr>\n",
       "      <th>3</th>\n",
       "      <td>Absolutely terrible lost luggage both flights ...</td>\n",
       "      <td>0</td>\n",
       "    </tr>\n",
       "    <tr>\n",
       "      <th>4</th>\n",
       "      <td>booked premium economy round trip from Phoenix...</td>\n",
       "      <td>0</td>\n",
       "    </tr>\n",
       "    <tr>\n",
       "      <th>...</th>\n",
       "      <td>...</td>\n",
       "      <td>...</td>\n",
       "    </tr>\n",
       "    <tr>\n",
       "      <th>3695</th>\n",
       "      <td>London LHR Houston IAH London LHR Heathrow cra...</td>\n",
       "      <td>0</td>\n",
       "    </tr>\n",
       "    <tr>\n",
       "      <th>3696</th>\n",
       "      <td>Travelling from Venice London Gatwick with Bri...</td>\n",
       "      <td>0</td>\n",
       "    </tr>\n",
       "    <tr>\n",
       "      <th>3697</th>\n",
       "      <td>LHRVIE A319 Online checkin didnt start working...</td>\n",
       "      <td>0</td>\n",
       "    </tr>\n",
       "    <tr>\n",
       "      <th>3698</th>\n",
       "      <td>flew A380800 Club World Flight time flight att...</td>\n",
       "      <td>1</td>\n",
       "    </tr>\n",
       "    <tr>\n",
       "      <th>3699</th>\n",
       "      <td>LHRLAXLHR This route A380 which very much look...</td>\n",
       "      <td>1</td>\n",
       "    </tr>\n",
       "  </tbody>\n",
       "</table>\n",
       "<p>3700 rows × 2 columns</p>\n",
       "</div>"
      ],
      "text/plain": [
       "                                                 review  label\n",
       "0     have never seen such disrespect customer time ...      0\n",
       "1     Paid hour long flight ticket which includes in...      0\n",
       "2     Very inconsiderate announcements were made pur...      0\n",
       "3     Absolutely terrible lost luggage both flights ...      0\n",
       "4     booked premium economy round trip from Phoenix...      0\n",
       "...                                                 ...    ...\n",
       "3695  London LHR Houston IAH London LHR Heathrow cra...      0\n",
       "3696  Travelling from Venice London Gatwick with Bri...      0\n",
       "3697  LHRVIE A319 Online checkin didnt start working...      0\n",
       "3698  flew A380800 Club World Flight time flight att...      1\n",
       "3699  LHRLAXLHR This route A380 which very much look...      1\n",
       "\n",
       "[3700 rows x 2 columns]"
      ]
     },
     "execution_count": 31,
     "metadata": {},
     "output_type": "execute_result"
    }
   ],
   "source": [
    "df_reviews = pd.DataFrame({'review': reviews, 'label': pred_labels})\n",
    "df_reviews"
   ]
  },
  {
   "cell_type": "code",
   "execution_count": 32,
   "metadata": {},
   "outputs": [
    {
     "data": {
      "text/plain": [
       "<seaborn.axisgrid.FacetGrid at 0x271b1988f50>"
      ]
     },
     "execution_count": 32,
     "metadata": {},
     "output_type": "execute_result"
    },
    {
     "data": {
      "image/png": "[encoded data removed]",
      "text/plain": [
       "<Figure size 500x500 with 1 Axes>"
      ]
     },
     "metadata": {},
     "output_type": "display_data"
    }
   ],
   "source": [
    "sns.displot(df_reviews['label'], kde=True)"
   ]
  },
  {
   "cell_type": "code",
   "execution_count": 33,
   "metadata": {},
   "outputs": [
    {
     "data": {
      "text/html": [
       "<div>\n",
       "<style scoped>\n",
       "    .dataframe tbody tr th:only-of-type {\n",
       "        vertical-align: middle;\n",
       "    }\n",
       "\n",
       "    .dataframe tbody tr th {\n",
       "        vertical-align: top;\n",
       "    }\n",
       "\n",
       "    .dataframe thead th {\n",
       "        text-align: right;\n",
       "    }\n",
       "</style>\n",
       "<table border=\"1\" class=\"dataframe\">\n",
       "  <thead>\n",
       "    <tr style=\"text-align: right;\">\n",
       "      <th></th>\n",
       "      <th>review</th>\n",
       "      <th>label</th>\n",
       "    </tr>\n",
       "  </thead>\n",
       "  <tbody>\n",
       "    <tr>\n",
       "      <th>9</th>\n",
       "      <td>Check fast friendly Security breeze Lounge bus...</td>\n",
       "      <td>1</td>\n",
       "    </tr>\n",
       "    <tr>\n",
       "      <th>10</th>\n",
       "      <td>This first time have seen Club World suite sea...</td>\n",
       "      <td>1</td>\n",
       "    </tr>\n",
       "    <tr>\n",
       "      <th>11</th>\n",
       "      <td>Flew business class from Doha London 31st Marc...</td>\n",
       "      <td>1</td>\n",
       "    </tr>\n",
       "    <tr>\n",
       "      <th>12</th>\n",
       "      <td>Starting Heathrow Terminal Check fairly easy f...</td>\n",
       "      <td>1</td>\n",
       "    </tr>\n",
       "    <tr>\n",
       "      <th>14</th>\n",
       "      <td>last minute business trip HND route regularly ...</td>\n",
       "      <td>1</td>\n",
       "    </tr>\n",
       "    <tr>\n",
       "      <th>...</th>\n",
       "      <td>...</td>\n",
       "      <td>...</td>\n",
       "    </tr>\n",
       "    <tr>\n",
       "      <th>3690</th>\n",
       "      <td>Rome Fiumicino Economy Airbus 321 Great staff ...</td>\n",
       "      <td>1</td>\n",
       "    </tr>\n",
       "    <tr>\n",
       "      <th>3692</th>\n",
       "      <td>Boston very busy check fast efficient flight a...</td>\n",
       "      <td>1</td>\n",
       "    </tr>\n",
       "    <tr>\n",
       "      <th>3694</th>\n",
       "      <td>Return Outbound flight delayed hours just well...</td>\n",
       "      <td>1</td>\n",
       "    </tr>\n",
       "    <tr>\n",
       "      <th>3698</th>\n",
       "      <td>flew A380800 Club World Flight time flight att...</td>\n",
       "      <td>1</td>\n",
       "    </tr>\n",
       "    <tr>\n",
       "      <th>3699</th>\n",
       "      <td>LHRLAXLHR This route A380 which very much look...</td>\n",
       "      <td>1</td>\n",
       "    </tr>\n",
       "  </tbody>\n",
       "</table>\n",
       "<p>2258 rows × 2 columns</p>\n",
       "</div>"
      ],
      "text/plain": [
       "                                                 review  label\n",
       "9     Check fast friendly Security breeze Lounge bus...      1\n",
       "10    This first time have seen Club World suite sea...      1\n",
       "11    Flew business class from Doha London 31st Marc...      1\n",
       "12    Starting Heathrow Terminal Check fairly easy f...      1\n",
       "14    last minute business trip HND route regularly ...      1\n",
       "...                                                 ...    ...\n",
       "3690  Rome Fiumicino Economy Airbus 321 Great staff ...      1\n",
       "3692  Boston very busy check fast efficient flight a...      1\n",
       "3694  Return Outbound flight delayed hours just well...      1\n",
       "3698  flew A380800 Club World Flight time flight att...      1\n",
       "3699  LHRLAXLHR This route A380 which very much look...      1\n",
       "\n",
       "[2258 rows x 2 columns]"
      ]
     },
     "execution_count": 33,
     "metadata": {},
     "output_type": "execute_result"
    }
   ],
   "source": [
    "positive_reviews = df_reviews[df_reviews['label'] == 1]\n",
    "positive_reviews"
   ]
  },
  {
   "cell_type": "code",
   "execution_count": 34,
   "metadata": {},
   "outputs": [
    {
     "data": {
      "text/html": [
       "<div>\n",
       "<style scoped>\n",
       "    .dataframe tbody tr th:only-of-type {\n",
       "        vertical-align: middle;\n",
       "    }\n",
       "\n",
       "    .dataframe tbody tr th {\n",
       "        vertical-align: top;\n",
       "    }\n",
       "\n",
       "    .dataframe thead th {\n",
       "        text-align: right;\n",
       "    }\n",
       "</style>\n",
       "<table border=\"1\" class=\"dataframe\">\n",
       "  <thead>\n",
       "    <tr style=\"text-align: right;\">\n",
       "      <th></th>\n",
       "      <th>review</th>\n",
       "      <th>label</th>\n",
       "    </tr>\n",
       "  </thead>\n",
       "  <tbody>\n",
       "    <tr>\n",
       "      <th>0</th>\n",
       "      <td>have never seen such disrespect customer time ...</td>\n",
       "      <td>0</td>\n",
       "    </tr>\n",
       "    <tr>\n",
       "      <th>1</th>\n",
       "      <td>Paid hour long flight ticket which includes in...</td>\n",
       "      <td>0</td>\n",
       "    </tr>\n",
       "    <tr>\n",
       "      <th>2</th>\n",
       "      <td>Very inconsiderate announcements were made pur...</td>\n",
       "      <td>0</td>\n",
       "    </tr>\n",
       "    <tr>\n",
       "      <th>3</th>\n",
       "      <td>Absolutely terrible lost luggage both flights ...</td>\n",
       "      <td>0</td>\n",
       "    </tr>\n",
       "    <tr>\n",
       "      <th>4</th>\n",
       "      <td>booked premium economy round trip from Phoenix...</td>\n",
       "      <td>0</td>\n",
       "    </tr>\n",
       "    <tr>\n",
       "      <th>...</th>\n",
       "      <td>...</td>\n",
       "      <td>...</td>\n",
       "    </tr>\n",
       "    <tr>\n",
       "      <th>3691</th>\n",
       "      <td>OSLLHR June 8th days after arriving departed s...</td>\n",
       "      <td>0</td>\n",
       "    </tr>\n",
       "    <tr>\n",
       "      <th>3693</th>\n",
       "      <td>outward trip Manchester Heathrow Milan fine wi...</td>\n",
       "      <td>0</td>\n",
       "    </tr>\n",
       "    <tr>\n",
       "      <th>3695</th>\n",
       "      <td>London LHR Houston IAH London LHR Heathrow cra...</td>\n",
       "      <td>0</td>\n",
       "    </tr>\n",
       "    <tr>\n",
       "      <th>3696</th>\n",
       "      <td>Travelling from Venice London Gatwick with Bri...</td>\n",
       "      <td>0</td>\n",
       "    </tr>\n",
       "    <tr>\n",
       "      <th>3697</th>\n",
       "      <td>LHRVIE A319 Online checkin didnt start working...</td>\n",
       "      <td>0</td>\n",
       "    </tr>\n",
       "  </tbody>\n",
       "</table>\n",
       "<p>1442 rows × 2 columns</p>\n",
       "</div>"
      ],
      "text/plain": [
       "                                                 review  label\n",
       "0     have never seen such disrespect customer time ...      0\n",
       "1     Paid hour long flight ticket which includes in...      0\n",
       "2     Very inconsiderate announcements were made pur...      0\n",
       "3     Absolutely terrible lost luggage both flights ...      0\n",
       "4     booked premium economy round trip from Phoenix...      0\n",
       "...                                                 ...    ...\n",
       "3691  OSLLHR June 8th days after arriving departed s...      0\n",
       "3693  outward trip Manchester Heathrow Milan fine wi...      0\n",
       "3695  London LHR Houston IAH London LHR Heathrow cra...      0\n",
       "3696  Travelling from Venice London Gatwick with Bri...      0\n",
       "3697  LHRVIE A319 Online checkin didnt start working...      0\n",
       "\n",
       "[1442 rows x 2 columns]"
      ]
     },
     "execution_count": 34,
     "metadata": {},
     "output_type": "execute_result"
    }
   ],
   "source": [
    "negative_reviews = df_reviews[df_reviews['label'] == 0]\n",
    "negative_reviews"
   ]
  },
  {
   "cell_type": "markdown",
   "metadata": {},
   "source": [
    "# Saving Model"
   ]
  },
  {
   "cell_type": "code",
   "execution_count": 36,
   "metadata": {},
   "outputs": [
    {
     "data": {
      "text/plain": [
       "['kmeans_model.pkl']"
      ]
     },
     "execution_count": 36,
     "metadata": {},
     "output_type": "execute_result"
    }
   ],
   "source": [
    "import joblib\n",
    "\n",
    "joblib.dump(Kmeans, 'kmeans_model.pkl')"
   ]
  },
  {
   "cell_type": "code",
   "execution_count": 37,
   "metadata": {},
   "outputs": [
    {
     "data": {
      "text/plain": [
       "['tfidf_vectorizer.pkl']"
      ]
     },
     "execution_count": 37,
     "metadata": {},
     "output_type": "execute_result"
    }
   ],
   "source": [
    "joblib.dump(tf_idf_vect, 'tfidf_vectorizer.pkl')"
   ]
  },
  {
   "cell_type": "markdown",
   "metadata": {},
   "source": [
    "## Testing the model"
   ]
  },
  {
   "cell_type": "code",
   "execution_count": 41,
   "metadata": {},
   "outputs": [
    {
     "name": "stdout",
     "output_type": "stream",
     "text": [
      "String: 'The business class cabin of flight was great, the attendants were polite and the flight was awesome' --> Predicted Cluster: 1\n",
      "String: 'Absolutely terrible flight, worst service ever' --> Predicted Cluster: 0\n"
     ]
    }
   ],
   "source": [
    "import joblib\n",
    "\n",
    "# Load the saved K-Means model\n",
    "loaded_kmeans = joblib.load('kmeans_model.pkl')\n",
    "\n",
    "# Load the saved TF-IDF vectorizer\n",
    "loaded_tfidf_vectorizer = joblib.load('tfidf_vectorizer.pkl')\n",
    "\n",
    "# Example strings to test\n",
    "example_strings = [\n",
    "    \"The business class cabin of flight was great, the attendants were polite and the flight was awesome\",\n",
    "    \"Absolutely terrible flight, worst service ever\"\n",
    "]\n",
    "\n",
    "# Transform the example strings into TF-IDF vectors using the loaded vectorizer\n",
    "tfidf_matrix_test = loaded_tfidf_vectorizer.transform(example_strings)\n",
    "\n",
    "# Predict the clusters for the TF-IDF vectors using the loaded K-Means model\n",
    "predicted_clusters = loaded_kmeans.predict(tfidf_matrix_test)\n",
    "\n",
    "# Print the predicted clusters for each example string\n",
    "for string, cluster in zip(example_strings, predicted_clusters):\n",
    "    print(f\"String: '{string}' --> Predicted Cluster: {cluster}\")\n"
   ]
  },
  {
   "cell_type": "code",
   "execution_count": null,
   "metadata": {},
   "outputs": [],
   "source": []
  }
 ],
 "metadata": {
  "kernelspec": {
   "display_name": "Python 3",
   "language": "python",
   "name": "python3"
  },
  "language_info": {
   "codemirror_mode": {
    "name": "ipython",
    "version": 3
   },
   "file_extension": ".py",
   "mimetype": "text/x-python",
   "name": "python",
   "nbconvert_exporter": "python",
   "pygments_lexer": "ipython3",
   "version": "3.11.4"
  },
  "orig_nbformat": 4
 },
 "nbformat": 4,
 "nbformat_minor": 2
}
